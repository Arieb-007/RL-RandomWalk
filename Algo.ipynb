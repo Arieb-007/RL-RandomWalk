{
  "nbformat": 4,
  "nbformat_minor": 0,
  "metadata": {
    "colab": {
      "name": "Copy of prot",
      "provenance": [],
      "collapsed_sections": []
    },
    "kernelspec": {
      "name": "python3",
      "display_name": "Python 3"
    },
    "language_info": {
      "name": "python"
    },
    "accelerator": "TPU"
  },
  "cells": [
    {
      "cell_type": "markdown",
      "metadata": {
        "id": "obDQp5BTx6s0"
      },
      "source": [
        "\n",
        "## **Environment**\n"
      ]
    },
    {
      "cell_type": "code",
      "metadata": {
        "id": "hVRPyVvPsrOX"
      },
      "source": [
        "import numpy as np\n",
        "import gym\n",
        "\n",
        "class SRWE(gym.Env) :\n",
        "  \n",
        "  def __init__(self):\n",
        "    self.state_space = np.arange(9) \n",
        "    self.action_space = np.arange(2) \n",
        "    self.state = len(self.state_space)//2\n",
        "    self.terminal = [0,8]\n",
        "    self.reward_space = [0,1]\n",
        "    self.prev_state = None\n",
        "\n",
        "  def reset(self):\n",
        "    self.state = len(self.state_space)//2\n",
        "    self.prev_state=None\n",
        "    return self.state,0\n",
        "\n",
        "  def seed(self,seed):\n",
        "    np.random.random(seed)\n",
        "\n",
        "  def step(self,action):\n",
        "    self.prev_state = self.state\n",
        "    reward = 0\n",
        "    done = 0\n",
        "    p = np.random.random()\n",
        "    if(action==0):\n",
        "      if(p<0.16) : self.state += 1\n",
        "      elif(p>0.5) : self.state -=1\n",
        "\n",
        "    if(action==1):\n",
        "      if(p<0.16) : self.state -= 1\n",
        "      elif(p>0.5) : self.state +=1\n",
        "\n",
        "    if(self.state==8) : \n",
        "      reward = 1\n",
        "      done = 1\n",
        "    \n",
        "    if(self.state==0): done = 1\n",
        "\n",
        "    return self.state,reward,done\n"
      ],
      "execution_count": 81,
      "outputs": []
    },
    {
      "cell_type": "markdown",
      "metadata": {
        "id": "JeeSldHkyQVm"
      },
      "source": [
        "## **Test cases**"
      ]
    },
    {
      "cell_type": "code",
      "metadata": {
        "colab": {
          "base_uri": "https://localhost:8080/"
        },
        "id": "XXxJGn04xyot",
        "outputId": "0e61bd54-bba9-402e-96dc-c4547a1dc691"
      },
      "source": [
        "env = SRWE()\n",
        "count = np.zeros([len(env.state_space)])\n",
        "print(\"[state ,action, same state prob ,   state-1 prob ,  state+1 prob ]\")\n",
        "for s in range(1,8) :\n",
        "  \n",
        "  for a in env.action_space  :\n",
        "    count = np.zeros([len(env.state_space)])\n",
        "    for e in range(100000):\n",
        "      s_n,r,done = env.step(a)\n",
        "      count[s_n]+=1\n",
        "      env.state = s\n",
        "    if(a==0): action = 'LEFT'\n",
        "    else : action = 'RIGHT'\n",
        "    l = [s, action,count[s]/e,count[s-1]/e,count[s+1]/e]\n",
        "    \n",
        "    print(l)"
      ],
      "execution_count": 82,
      "outputs": [
        {
          "output_type": "stream",
          "name": "stdout",
          "text": [
            "[state ,action, same state prob ,   state-1 prob ,  state+1 prob ]\n",
            "[1, 'LEFT', 0.34078340783407834, 0.4989249892498925, 0.16029160291602915]\n",
            "[1, 'RIGHT', 0.34047340473404736, 0.16270162701627017, 0.4968349683496835]\n",
            "[2, 'LEFT', 0.34114341143411436, 0.4995549955499555, 0.15931159311593115]\n",
            "[2, 'RIGHT', 0.33966339663396633, 0.16046160461604617, 0.4998849988499885]\n",
            "[3, 'LEFT', 0.34272342723427235, 0.4988349883498835, 0.15844158441584416]\n",
            "[3, 'RIGHT', 0.33957339573395734, 0.15967159671596717, 0.5007650076500765]\n",
            "[4, 'LEFT', 0.34015340153401535, 0.4981849818498185, 0.16167161671616717]\n",
            "[4, 'RIGHT', 0.33914339143391437, 0.16078160781607817, 0.5000850008500085]\n",
            "[5, 'LEFT', 0.34025340253402536, 0.4991249912499125, 0.16063160631606316]\n",
            "[5, 'RIGHT', 0.33904339043390436, 0.16224162241622417, 0.4987249872498725]\n",
            "[6, 'LEFT', 0.33929339293392935, 0.5017350173501735, 0.15898158981589816]\n",
            "[6, 'RIGHT', 0.33856338563385635, 0.16029160291602915, 0.5011550115501155]\n",
            "[7, 'LEFT', 0.33919339193391934, 0.5011750117501175, 0.15963159631596316]\n",
            "[7, 'RIGHT', 0.33923339233392336, 0.16085160851608515, 0.4999249992499925]\n"
          ]
        }
      ]
    },
    {
      "cell_type": "markdown",
      "metadata": {
        "id": "BRAbkgP1FABA"
      },
      "source": [
        "#**Decay rate**"
      ]
    },
    {
      "cell_type": "code",
      "metadata": {
        "id": "W00CXJ85E_Zy"
      },
      "source": [
        "def decayLearningRate(e):\n",
        "\n",
        "  return 0.5*np.exp(-0.005*e)"
      ],
      "execution_count": 83,
      "outputs": []
    },
    {
      "cell_type": "code",
      "metadata": {
        "id": "eYK0bfqgR_wA"
      },
      "source": [
        "def decayEpsilon(e):\n",
        "  return 0.3*np.exp(-0.009*e)"
      ],
      "execution_count": 84,
      "outputs": []
    },
    {
      "cell_type": "markdown",
      "metadata": {
        "id": "RGiWrJyeG01p"
      },
      "source": [
        "# **Trajectory**"
      ]
    },
    {
      "cell_type": "code",
      "metadata": {
        "id": "ujBW9teUG5fY"
      },
      "source": [
        "def generateTracjectory(env,Q,eps,maxSteps):\n",
        "  Trj = []\n",
        "  done = 0\n",
        "  count = 0\n",
        "  while(not done):\n",
        "    env.seed(count)\n",
        "    a = np.random.randint(2)\n",
        "    env.seed(count*3)\n",
        "    s,r,done = env.step(a)\n",
        "    Trj.append((env.prev_state,a,r,s))\n",
        "    count+=1\n",
        "  return Trj"
      ],
      "execution_count": 85,
      "outputs": []
    },
    {
      "cell_type": "markdown",
      "metadata": {
        "id": "zj_1SfSerhYi"
      },
      "source": [
        "# **Q-Learning**"
      ]
    },
    {
      "cell_type": "code",
      "metadata": {
        "id": "jQF7CLa36LWS"
      },
      "source": [
        "def actionSelect(s,Q,eps):\n",
        "  if(eps < np.random.random()) : a = np.random.randint(2)\n",
        "  else :\n",
        "    a = np.argmax(Q[s])\n",
        "\n",
        "  return a"
      ],
      "execution_count": 86,
      "outputs": []
    },
    {
      "cell_type": "code",
      "metadata": {
        "id": "6i-UJEcWro1F"
      },
      "source": [
        "def QLearning(env,gamma,alpha,eps,noEpisodes):\n",
        "  Q = np.zeros([len(env.state_space),len(env.action_space)])\n",
        "  Qs = np.zeros([noEpisodes,len(env.state_space),len(env.action_space)])\n",
        "  Vs = np.zeros([noEpisodes,len(env.state_space)])\n",
        "  for e in range(noEpisodes):\n",
        "    s,done = env.reset()\n",
        "    alpha = decayLearningRate(e)\n",
        "    eps = decayEpsilon(e)\n",
        "    env.seed(e)\n",
        "    while(not done):\n",
        "      a = actionSelect(s,Q,eps)\n",
        "      s_next,r,done = env.step(a)\n",
        "      \n",
        "      #print(a)\n",
        "      td_error = r\n",
        "      if not done : td_error = td_error + gamma*np.max(Q[s_next])\n",
        "      Q[s][a] += alpha*(td_error - Q[s][a])\n",
        "      s = s_next\n",
        "      \n",
        "    Qs[e] = Q\n",
        "    Vs[e] = np.max(Q,axis=1)\n",
        "\n",
        "  policy = np.argmax(Q,axis=1)\n",
        "  V = np.max(Q,axis=1)\n",
        "\n",
        "  return Q,V,policy,Qs,Vs\n"
      ],
      "execution_count": 87,
      "outputs": []
    },
    {
      "cell_type": "code",
      "metadata": {
        "id": "TybG0jENtMHO"
      },
      "source": [
        "env = SRWE()\n",
        "gamma = 0.99\n",
        "alpha = 0.5\n",
        "eps = 0.4\n",
        "noEpisodes = 3000\n",
        "Q,V,policy,Qs,Vs = QLearning(env,gamma,alpha,eps,noEpisodes) \n"
      ],
      "execution_count": 88,
      "outputs": []
    },
    {
      "cell_type": "code",
      "metadata": {
        "colab": {
          "base_uri": "https://localhost:8080/"
        },
        "id": "It277xd4u_WR",
        "outputId": "ef9fbd7e-af45-4d99-ff50-96c6092d1814"
      },
      "source": [
        "policy,V"
      ],
      "execution_count": 89,
      "outputs": [
        {
          "output_type": "execute_result",
          "data": {
            "text/plain": [
              "(array([0, 1, 1, 1, 1, 1, 1, 1, 0]),\n",
              " array([0.        , 0.60230411, 0.78205133, 0.85528828, 0.89297613,\n",
              "        0.92283809, 0.9506195 , 0.97900187, 0.        ]))"
            ]
          },
          "metadata": {},
          "execution_count": 89
        }
      ]
    },
    {
      "cell_type": "code",
      "metadata": {
        "colab": {
          "base_uri": "https://localhost:8080/",
          "height": 297
        },
        "id": "T7K4ihkYt8_E",
        "outputId": "4043f5c8-40d8-483d-af21-87e9b2082975"
      },
      "source": [
        "import matplotlib.pyplot as plt\n",
        "plt.plot(Vs[:,1])\n",
        "plt.plot(Vs[:,2])\n",
        "plt.plot(Vs[:,3])\n",
        "plt.plot(Vs[:,4])\n",
        "plt.plot(Vs[:,5])\n",
        "plt.plot(Vs[:,6])\n",
        "plt.plot(Vs[:,7])\n",
        "plt.ylabel('State Value function')\n",
        "plt.xlabel('episodes')\n",
        "plt.legend([ \"v[1]\",\"v[2]\",\"v[3]\",\"v[4]\",\"v[5]\",\"v[6]\",\"v[7]\"],loc='lower right')"
      ],
      "execution_count": 90,
      "outputs": [
        {
          "output_type": "execute_result",
          "data": {
            "text/plain": [
              "<matplotlib.legend.Legend at 0x7f41dad40210>"
            ]
          },
          "metadata": {},
          "execution_count": 90
        },
        {
          "output_type": "display_data",
          "data": {
            "image/png": "[encoded data removed]",
            "text/plain": [
              "<Figure size 432x288 with 1 Axes>"
            ]
          },
          "metadata": {
            "needs_background": "light"
          }
        }
      ]
    },
    {
      "cell_type": "markdown",
      "metadata": {
        "id": "NzGkp4ycvVHy"
      },
      "source": [
        "# **Double Q-Learning**"
      ]
    },
    {
      "cell_type": "code",
      "metadata": {
        "id": "NFGkOVI_vUUK"
      },
      "source": [
        "def Double_Q_Learning(env,gamma,alpha,eps,noEpisodes):\n",
        "  Q = np.zeros([len(env.state_space),len(env.action_space)])\n",
        "  Qs = np.zeros([noEpisodes,len(env.state_space),len(env.action_space)])\n",
        "  Q1 = np.zeros([len(env.state_space),len(env.action_space)])\n",
        "  Qs1 = np.zeros([noEpisodes,len(env.state_space),len(env.action_space)])\n",
        "  Q2 = np.zeros([len(env.state_space),len(env.action_space)])\n",
        "  Qs2 = np.zeros([noEpisodes,len(env.state_space),len(env.action_space)])\n",
        "  Vs = np.zeros([noEpisodes,len(env.state_space)])\n",
        "  for e in range(noEpisodes):\n",
        "    s,done = env.reset()\n",
        "    alpha = decayLearningRate(e)\n",
        "    eps = decayEpsilon(e)\n",
        "    #env.seed(e)\n",
        "    while(not done):\n",
        "      a = actionSelect(s,Q1+Q2,eps)\n",
        "      s_next,r,done = env.step(a)\n",
        "      env.seed(e*7)\n",
        "      if(np.random.randint(2)):\n",
        "        a1 = np.argmax(Q1[s_next])\n",
        "        td_error = r\n",
        "        if not done : td_error = td_error + gamma*Q2[s_next][a1]\n",
        "        Q1[s][a] += alpha*(td_error - Q1[s][a])\n",
        "\n",
        "      else:\n",
        "        a2 = np.argmax(Q2[s_next])\n",
        "        td_error = r\n",
        "        if not done : td_error = td_error + gamma*Q1[s_next][a2]\n",
        "        Q2[s][a] += alpha*(td_error - Q2[s][a])\n",
        "\n",
        "      s = s_next\n",
        "\n",
        "    Qs1[e] = Q1\n",
        "    Qs2[e] = Q2\n",
        "    Q = (Q1+Q2)/2\n",
        "    Qs = (Qs1+Qs2)/2\n",
        "    Vs[e] = np.max(Q,axis=1)\n",
        "    \n",
        "\n",
        "  V = np.max(Q,axis=1)\n",
        "  policy = np.argmax(Q,axis=1)\n",
        "\n",
        "  return Q,V,policy,Qs,Vs\n"
      ],
      "execution_count": 91,
      "outputs": []
    },
    {
      "cell_type": "code",
      "metadata": {
        "id": "2tqXcU6j74oi"
      },
      "source": [
        "env = SRWE()\n",
        "gamma = 0.99\n",
        "alpha = 0.1\n",
        "eps = 0.4\n",
        "noEpisodes = 3000\n",
        "Q,V,policy,Qs,Vs = Double_Q_Learning(env,gamma,alpha,eps,noEpisodes) "
      ],
      "execution_count": 92,
      "outputs": []
    },
    {
      "cell_type": "code",
      "metadata": {
        "colab": {
          "base_uri": "https://localhost:8080/"
        },
        "id": "84NlXTM68ndL",
        "outputId": "684f774e-2974-4ee5-f954-c49b2fd44f2d"
      },
      "source": [
        "V"
      ],
      "execution_count": 93,
      "outputs": [
        {
          "output_type": "execute_result",
          "data": {
            "text/plain": [
              "array([0.        , 0.56972491, 0.77861767, 0.85530046, 0.89451222,\n",
              "       0.92547522, 0.95353396, 0.98298841, 0.        ])"
            ]
          },
          "metadata": {},
          "execution_count": 93
        }
      ]
    },
    {
      "cell_type": "code",
      "metadata": {
        "colab": {
          "base_uri": "https://localhost:8080/",
          "height": 297
        },
        "id": "VNRDKWhS8KPQ",
        "outputId": "9356f729-459e-4528-e03c-c87e8964971f"
      },
      "source": [
        "import matplotlib.pyplot as plt\n",
        "\n",
        "plt.plot(Vs[:,1])\n",
        "plt.plot(Vs[:,2])\n",
        "plt.plot(Vs[:,3])\n",
        "plt.plot(Vs[:,4])\n",
        "plt.plot(Vs[:,5])\n",
        "plt.plot(Vs[:,6])\n",
        "plt.plot(Vs[:,7])\n",
        "plt.ylabel('State Value function')\n",
        "plt.xlabel('episodes')\n",
        "plt.legend([ \"v[1]\",\"v[2]\",\"v[3]\",\"v[4]\",\"v[5]\",\"v[6]\",\"v[7]\"],loc='lower right')"
      ],
      "execution_count": 94,
      "outputs": [
        {
          "output_type": "execute_result",
          "data": {
            "text/plain": [
              "<matplotlib.legend.Legend at 0x7f41daced490>"
            ]
          },
          "metadata": {},
          "execution_count": 94
        },
        {
          "output_type": "display_data",
          "data": {
            "image/png": "[encoded data removed]",
            "text/plain": [
              "<Figure size 432x288 with 1 Axes>"
            ]
          },
          "metadata": {
            "needs_background": "light"
          }
        }
      ]
    },
    {
      "cell_type": "markdown",
      "metadata": {
        "id": "SdkNRId9nLWJ"
      },
      "source": [
        "# **Q(λ)**"
      ]
    },
    {
      "cell_type": "code",
      "metadata": {
        "id": "ABA3A95EnKpj"
      },
      "source": [
        "def Q_lmd(env,gamma,alpha,eps,lmd,noEpisodes,replaceTrace):\n",
        "  Q = np.zeros([len(env.state_space),len(env.action_space)])\n",
        "  Qs = np.zeros([noEpisodes,len(env.state_space),len(env.action_space)])\n",
        "  Vs = np.zeros([noEpisodes,len(env.state_space)])\n",
        "  E = np.zeros([len(env.state_space),len(env.action_space)])\n",
        "  for e in range(noEpisodes):\n",
        "    s,done = env.reset()\n",
        "    alpha = decayLearningRate(e)\n",
        "    eps = decayEpsilon(e)\n",
        "    E = np.zeros([len(env.state_space),len(env.action_space)])\n",
        "    env.seed(e)\n",
        "    a = actionSelect(s,Q,eps)\n",
        "    while(not done):\n",
        "      a_next = actionSelect(s,Q,eps)\n",
        "      s_next,r,done = env.step(a)\n",
        "      if(a_next==np.argmax(Q[s_next])) : greedy = True\n",
        "      else : greedy = False\n",
        "      #print(a)\n",
        "      td_error = r\n",
        "      if not done : td_error = td_error + gamma*np.max(Q[s_next])\n",
        "      td_error = td_error - Q[s][a]\n",
        "      if(replaceTrace) :  E[s] =  0\n",
        "      E[s][a] = E[s][a] + 1\n",
        "      \n",
        "      \n",
        "      Q = Q +  alpha*td_error*E\n",
        "      if(greedy): E = gamma*lmd*E\n",
        "      else : E = np.zeros([len(env.state_space),len(env.action_space)])\n",
        "      s = s_next\n",
        "      a = a_next\n",
        "      \n",
        "    Qs[e] = Q\n",
        "    Vs[e] = np.max(Q,axis=1)\n",
        "\n",
        "  policy = np.argmax(Q,axis=1)\n",
        "  V = np.max(Q,axis=1)\n",
        "\n",
        "  return Q,V,policy,Qs,Vs\n"
      ],
      "execution_count": 95,
      "outputs": []
    },
    {
      "cell_type": "code",
      "metadata": {
        "id": "f6NFw4p9rljw"
      },
      "source": [
        "env = SRWE()\n",
        "gamma = 1\n",
        "alpha = 0.5\n",
        "eps = 0.3\n",
        "noEpisodes = 3000\n",
        "lmd = 0.5\n",
        "replaceTrace = False\n",
        "Q,V,policy,Qs,Vs = Q_lmd(env,gamma,alpha,eps,lmd,noEpisodes,replaceTrace) "
      ],
      "execution_count": 96,
      "outputs": []
    },
    {
      "cell_type": "code",
      "metadata": {
        "colab": {
          "base_uri": "https://localhost:8080/"
        },
        "id": "YbuZlciFr7e0",
        "outputId": "a1cabd8f-b865-4708-8b40-e68f690458db"
      },
      "source": [
        "V"
      ],
      "execution_count": 97,
      "outputs": [
        {
          "output_type": "execute_result",
          "data": {
            "text/plain": [
              "array([0.        , 0.64772314, 0.88799525, 0.96577971, 0.98877291,\n",
              "       0.99657109, 0.99885716, 0.99970019, 0.        ])"
            ]
          },
          "metadata": {},
          "execution_count": 97
        }
      ]
    },
    {
      "cell_type": "code",
      "metadata": {
        "colab": {
          "base_uri": "https://localhost:8080/",
          "height": 297
        },
        "id": "pCygOJ-RrpgC",
        "outputId": "d9a2de04-a851-4c37-d6b1-fcdf396db38c"
      },
      "source": [
        "import matplotlib.pyplot as plt\n",
        "#plt.figure(figsize=(18,8))\n",
        "plt.plot(Vs[:,1])\n",
        "plt.plot(Vs[:,2])\n",
        "plt.plot(Vs[:,3])\n",
        "plt.plot(Vs[:,4])\n",
        "plt.plot(Vs[:,5])\n",
        "#plt.plot(Vs[:,6])\n",
        "#plt.plot(Vs[:,7])\n",
        "plt.ylabel('State Value function')\n",
        "plt.xlabel('episodes')\n",
        "plt.legend([ \"v[1]\",\"v[2]\",\"v[3]\",\"v[4]\",\"v[5]\"],loc='lower right')"
      ],
      "execution_count": 98,
      "outputs": [
        {
          "output_type": "execute_result",
          "data": {
            "text/plain": [
              "<matplotlib.legend.Legend at 0x7f41dac57bd0>"
            ]
          },
          "metadata": {},
          "execution_count": 98
        },
        {
          "output_type": "display_data",
          "data": {
            "image/png": "[encoded data removed]",
            "text/plain": [
              "<Figure size 432x288 with 1 Axes>"
            ]
          },
          "metadata": {
            "needs_background": "light"
          }
        }
      ]
    },
    {
      "cell_type": "markdown",
      "metadata": {
        "id": "FlzucIjEvwgl"
      },
      "source": [
        "# **Dyna-Q**"
      ]
    },
    {
      "cell_type": "code",
      "metadata": {
        "id": "jaAxLvw-4te8"
      },
      "source": [
        "def get_S_A_visited(env,T):\n",
        "  s_visited = []\n",
        "  a_taken = []\n",
        "  for s in env.state_space :\n",
        "    for a in env.action_space :\n",
        "      for s_n in env_state_space :\n",
        "        if(T[s][a][s_n] != 0 ) : \n",
        "          s_visited.append(s)\n",
        "          a_taken.append(a)\n",
        "\n",
        "  s_visited = list(set(s_visited))\n",
        "  a_taken =  list(set(s_taken))"
      ],
      "execution_count": 99,
      "outputs": []
    },
    {
      "cell_type": "code",
      "metadata": {
        "id": "6H1N2yLywKlA"
      },
      "source": [
        "def Dyna_Q(env,gamma,alpha,eps,noEpisodes,noPlanning):\n",
        "  Q = np.zeros([len(env.state_space),len(env.action_space)])\n",
        "  Qs = np.zeros([noEpisodes,len(env.state_space),len(env.action_space)])\n",
        "  T = np.zeros([len(env.state_space),len(env.action_space),len(env.state_space)])\n",
        "  R = np.zeros([len(env.state_space),len(env.action_space),len(env.state_space)])\n",
        "\n",
        "  Vs = np.zeros([noEpisodes,len(env.state_space)])\n",
        "  for e in range(noEpisodes):\n",
        "    s,done = env.reset()\n",
        "    alpha = decayLearningRate(e)\n",
        "    eps = decayEpsilon(e)\n",
        "    env.seed(e)\n",
        "    while(not done):\n",
        "      a = actionSelect(s,Q,eps)\n",
        "      s_next,r,done = env.step(a)\n",
        "      T[s,a,s_next] += 1\n",
        "      rDiff = r - R[s,a,s_next]\n",
        "      R[s,a,s_next] += rDiff/T[s,a,s_next]\n",
        "      \n",
        "      td_error = r\n",
        "      if not done : td_error = td_error + gamma*np.max(Q[s_next])\n",
        "      Q[s][a] += alpha*(td_error - Q[s][a])\n",
        "      s_bk = s_next\n",
        "      for i in range(noPlanning):\n",
        "        if(np.sum(Q==0)) : break\n",
        "        s_visited,a_taken = get_S_A_visited(env,T)\n",
        "        s = np.random.choice(s_visited)\n",
        "        a = np.random.choice(a_taken)\n",
        "        prob = T[s][a][:]/np.sum(T[s][a][:])\n",
        "        s_n = np.random.choice(env.state_space,1,prob)\n",
        "        r = R[s,a,s_n]\n",
        "        Q[s,a] += alpha*(r + gamma*np.max(Q[s_n]) - Q[s,a])\n",
        "      \n",
        "      s = s_bk\n",
        "\n",
        "      \n",
        "    Qs[e] = Q\n",
        "    Vs[e] = np.max(Q,axis=1)\n",
        "\n",
        "  policy = np.argmax(Q,axis=1)\n",
        "  \n",
        "  V = np.max(Q,axis=1)\n",
        "\n",
        "  return Q,V,policy,Qs,Vs\n"
      ],
      "execution_count": 100,
      "outputs": []
    },
    {
      "cell_type": "code",
      "metadata": {
        "id": "2foMfPzd6t0z"
      },
      "source": [
        "env = SRWE()\n",
        "gamma = 0.99\n",
        "alpha = 0.5\n",
        "eps = 0.3\n",
        "noEpisodes = 3000\n",
        "noPlanning = 30\n",
        "Q,V,policy,Qs,Vs = Dyna_Q(env,gamma,alpha,eps,noEpisodes,noPlanning) \n",
        "for i in env.terminal:\n",
        "  policy[i] = -5"
      ],
      "execution_count": 101,
      "outputs": []
    },
    {
      "cell_type": "code",
      "metadata": {
        "id": "rgWU1zjt6-dh",
        "colab": {
          "base_uri": "https://localhost:8080/"
        },
        "outputId": "8f3f1b3f-f11d-4cc8-d756-d0d19bc3339d"
      },
      "source": [
        "V"
      ],
      "execution_count": 102,
      "outputs": [
        {
          "output_type": "execute_result",
          "data": {
            "text/plain": [
              "array([0.        , 0.5712891 , 0.76634206, 0.84349133, 0.88880949,\n",
              "       0.92178567, 0.9502613 , 0.98010431, 0.        ])"
            ]
          },
          "metadata": {},
          "execution_count": 102
        }
      ]
    },
    {
      "cell_type": "code",
      "metadata": {
        "colab": {
          "base_uri": "https://localhost:8080/"
        },
        "id": "3EWpGhxW8Ftv",
        "outputId": "17ce7234-2c28-41af-c2bc-a859deb70617"
      },
      "source": [
        "policy"
      ],
      "execution_count": 103,
      "outputs": [
        {
          "output_type": "execute_result",
          "data": {
            "text/plain": [
              "array([-5,  1,  1,  1,  1,  1,  1,  1, -5])"
            ]
          },
          "metadata": {},
          "execution_count": 103
        }
      ]
    },
    {
      "cell_type": "code",
      "metadata": {
        "colab": {
          "base_uri": "https://localhost:8080/",
          "height": 298
        },
        "id": "yaTMhQZ27Do4",
        "outputId": "2b4bc889-e16c-4c84-94c0-763e26337058"
      },
      "source": [
        "import matplotlib.pyplot as plt\n",
        "#plt.figure(figsize=(9,6))\n",
        "plt.plot(Vs[:,1])\n",
        "plt.plot(Vs[:,2])\n",
        "plt.plot(Vs[:,3])\n",
        "plt.plot(Vs[:,4])\n",
        "plt.plot(Vs[:,5])\n",
        "#plt.plot(Vs[:,6])\n",
        "#plt.plot(Vs[:,7])\n",
        "plt.ylabel('State Value function')\n",
        "plt.xlabel('episodes')\n",
        "plt.legend([ \"v[1]\",\"v[2]\",\"v[3]\",\"v[4]\",\"v[5]\"],loc='lower right')"
      ],
      "execution_count": 104,
      "outputs": [
        {
          "output_type": "execute_result",
          "data": {
            "text/plain": [
              "<matplotlib.legend.Legend at 0x7f41dabe5050>"
            ]
          },
          "metadata": {},
          "execution_count": 104
        },
        {
          "output_type": "display_data",
          "data": {
            "image/png": "[encoded data removed]",
            "text/plain": [
              "<Figure size 432x288 with 1 Axes>"
            ]
          },
          "metadata": {
            "needs_background": "light"
          }
        }
      ]
    },
    {
      "cell_type": "markdown",
      "metadata": {
        "id": "Vs9Mx7T4ZoUx"
      },
      "source": [
        "# **Trajetory sampling**"
      ]
    },
    {
      "cell_type": "code",
      "metadata": {
        "id": "4Ioqo3B8ZnQ_"
      },
      "source": [
        "def Trajectory_Sampling(env,gamma,alpha,eps,maxTrajectory,noEpisodes):\n",
        "  Q = np.zeros([len(env.state_space),len(env.action_space)])\n",
        "  Qs = np.zeros([noEpisodes,len(env.state_space),len(env.action_space)])\n",
        "  T = np.zeros([len(env.state_space),len(env.action_space),len(env.state_space)])\n",
        "  R = np.zeros([len(env.state_space),len(env.action_space),len(env.state_space)])\n",
        "\n",
        "  Vs = np.zeros([noEpisodes,len(env.state_space)])\n",
        "  for e in range(noEpisodes):\n",
        "    s,done = env.reset()\n",
        "    alpha = decayLearningRate(e)\n",
        "    eps = decayEpsilon(e)\n",
        "    env.seed(e)\n",
        "    while(not done):\n",
        "      a = actionSelect(s,Q,eps)\n",
        "      s_next,r,done = env.step(a)\n",
        "      T[s,a,s_next] += 1\n",
        "      rDiff = r - R[s,a,s_next]\n",
        "      R[s,a,s_next] += rDiff/T[s,a,s_next]\n",
        "      \n",
        "      td_error = r\n",
        "      if not done : td_error = td_error + gamma*np.max(Q[s_next])\n",
        "      Q[s][a] += alpha*(td_error - Q[s][a])\n",
        "      s_bk = s_next\n",
        "      for i in range(maxTrajectory):\n",
        "        if(np.sum(Q==0)) : break\n",
        "        a = actionSelect(s,Q,eps)\n",
        "        if(not np.sum(T[s][a])): break\n",
        "        prob = T[s][a][:]/np.sum(T[s][a][:])\n",
        "        s_n = np.random.choice(env.state_space,1,prob)\n",
        "        r = R[s,a,s_n]\n",
        "        Q[s,a] += alpha*(r + gamma*np.max(Q[s_n]) - Q[s,a])\n",
        "      \n",
        "      s = s_bk\n",
        "\n",
        "      \n",
        "    Qs[e] = Q\n",
        "    Vs[e] = np.max(Q,axis=1)\n",
        "\n",
        "  policy = np.argmax(Q,axis=1)\n",
        "  \n",
        "  V = np.max(Q,axis=1)\n",
        "\n",
        "  return Q,V,policy,Qs,Vs\n"
      ],
      "execution_count": 105,
      "outputs": []
    },
    {
      "cell_type": "code",
      "metadata": {
        "id": "G4Kse8hZrbMc"
      },
      "source": [
        "env = SRWE()\n",
        "gamma = 0.99\n",
        "alpha = 0.5\n",
        "eps = 0.3\n",
        "noEpisodes = 3000\n",
        "maxTrajectory = 30\n",
        "Q,V,policy,Qs,Vs = Trajectory_Sampling(env,gamma,alpha,eps,maxTrajectory,noEpisodes) \n"
      ],
      "execution_count": 106,
      "outputs": []
    },
    {
      "cell_type": "code",
      "metadata": {
        "colab": {
          "base_uri": "https://localhost:8080/"
        },
        "id": "pgHGqs_mrqLO",
        "outputId": "76543f2f-cb2e-4e65-ce1f-85d86bddeadf"
      },
      "source": [
        "V"
      ],
      "execution_count": 107,
      "outputs": [
        {
          "output_type": "execute_result",
          "data": {
            "text/plain": [
              "array([0.        , 0.57763425, 0.76648187, 0.84359866, 0.88555835,\n",
              "       0.91798422, 0.94910943, 0.97928807, 0.        ])"
            ]
          },
          "metadata": {},
          "execution_count": 107
        }
      ]
    },
    {
      "cell_type": "code",
      "metadata": {
        "colab": {
          "base_uri": "https://localhost:8080/",
          "height": 300
        },
        "id": "qnyTYB3trrW9",
        "outputId": "970db1a3-d01c-4b3e-a0a4-eb1e41935cc9"
      },
      "source": [
        "import matplotlib.pyplot as plt\n",
        "#plt.figure(figsize=(15,12))\n",
        "plt.plot(Vs[:,1])\n",
        "plt.plot(Vs[:,2])\n",
        "plt.plot(Vs[:,3])\n",
        "plt.plot(Vs[:,4])\n",
        "plt.plot(Vs[:,5])\n",
        "\n",
        "plt.axhline(y=0.91549203, color='violet', linestyle='-',)\n",
        "plt.axhline(y=0.88447723, color='red', linestyle='-',)\n",
        "plt.axhline(y=0.84283579, color='green', linestyle='-',)\n",
        "plt.axhline(y=0.76, color='orange', linestyle='-',)\n",
        "plt.axhline(y=0.57, color='blue', linestyle='-',)\n",
        "plt.ylabel('State Value function')\n",
        "plt.xlabel('episodes')\n",
        "plt.legend([ \"v[1]\",\"v[2]\",\"v[3]\",\"v[4]\",\"v[5]\"],loc='lower right')"
      ],
      "execution_count": 108,
      "outputs": [
        {
          "output_type": "execute_result",
          "data": {
            "text/plain": [
              "<matplotlib.legend.Legend at 0x7f41daade0d0>"
            ]
          },
          "metadata": {},
          "execution_count": 108
        },
        {
          "output_type": "display_data",
          "data": {
            "image/png": "[encoded data removed]",
            "text/plain": [
              "<Figure size 432x288 with 1 Axes>"
            ]
          },
          "metadata": {
            "needs_background": "light"
          }
        }
      ]
    },
    {
      "cell_type": "markdown",
      "metadata": {
        "id": "OeHh-S_woHfs"
      },
      "source": [
        "# **True values**"
      ]
    },
    {
      "cell_type": "code",
      "metadata": {
        "colab": {
          "base_uri": "https://localhost:8080/"
        },
        "id": "MWul2RsLUG3l",
        "outputId": "2a57c463-9aea-408b-94aa-2bea5000d917"
      },
      "source": [
        "gamma = 1\n",
        "g = gamma \n",
        "A = np.array([[0.33*gamma - 1, 0.5*gamma, 0, 0, 0, 0, 0],\n",
        "    [0.16*gamma, 0.33*gamma-1, 0.5*gamma, 0, 0, 0, 0],\n",
        "    [0, .16*g,  .33*g-1, 0.5*g, 0 ,0,0],\n",
        "    [0, 0, 0.16*g, -1+0.33*g, 0.5*gamma, 0, 0],\n",
        "    [0, 0, 0, 0.16*g, -1+0.33*g, 0.5*gamma, 0],\n",
        "    [0, 0, 0, 0, .16*g, -1+0.33*g, 0.5*g ],\n",
        "    [0, 0, 0, 0, 0, 0.16*g, -1+.33*g]])\n",
        "b = np.array([[0],[0], [0], [0], [0],[0], [-0.5]])\n",
        "v_sol = np.linalg.solve(A, b)\n",
        "    \n",
        "v_sol = v_sol.flatten()\n",
        "print(\"optimal solution:\\n[ v(1), v(2), v(3), v(4), v(5), v(6),v(7)] :\")\n",
        "print(v_sol)\n"
      ],
      "execution_count": 109,
      "outputs": [
        {
          "output_type": "stream",
          "name": "stdout",
          "text": [
            "optimal solution:\n",
            "[ v(1), v(2), v(3), v(4), v(5), v(6),v(7)] :\n",
            "[0.57118175 0.76538355 0.84283579 0.88447723 0.91549203 0.94372661\n",
            " 0.9716362 ]\n"
          ]
        }
      ]
    }
  ]
}